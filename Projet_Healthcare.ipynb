{
  "nbformat": 4,
  "nbformat_minor": 0,
  "metadata": {
    "colab": {
      "provenance": [],
      "collapsed_sections": [],
      "authorship_tag": "ABX9TyNFCZj+VI37gzU5CgFzy7pQ",
      "include_colab_link": true
    },
    "kernelspec": {
      "name": "python3",
      "display_name": "Python 3"
    },
    "language_info": {
      "name": "python"
    },
    "accelerator": "GPU",
    "gpuClass": "standard"
  },
  "cells": [
    {
      "cell_type": "markdown",
      "metadata": {
        "id": "view-in-github",
        "colab_type": "text"
      },
      "source": [
        "<a href=\"https://colab.research.google.com/github/hadil1999-creator/Summer-internship-project/blob/main/Projet_Healthcare.ipynb\" target=\"_parent\"><img src=\"https://colab.research.google.com/assets/colab-badge.svg\" alt=\"Open In Colab\"/></a>"
      ]
    },
    {
      "cell_type": "markdown",
      "source": [
        "Import dataset"
      ],
      "metadata": {
        "id": "iQugEEqTZ8yu"
      }
    },
    {
      "cell_type": "code",
      "execution_count": null,
      "metadata": {
        "colab": {
          "base_uri": "https://localhost:8080/"
        },
        "id": "IM235gfjjAJU",
        "outputId": "b360d0b0-7272-4007-f1ee-3264c9179313"
      },
      "outputs": [
        {
          "output_type": "stream",
          "name": "stdout",
          "text": [
            "Looking in indexes: https://pypi.org/simple, https://us-python.pkg.dev/colab-wheels/public/simple/\n",
            "Requirement already satisfied: kaggle in /usr/local/lib/python3.7/dist-packages (1.5.12)\n",
            "Requirement already satisfied: certifi in /usr/local/lib/python3.7/dist-packages (from kaggle) (2022.6.15)\n",
            "Requirement already satisfied: python-slugify in /usr/local/lib/python3.7/dist-packages (from kaggle) (6.1.2)\n",
            "Requirement already satisfied: tqdm in /usr/local/lib/python3.7/dist-packages (from kaggle) (4.64.0)\n",
            "Requirement already satisfied: python-dateutil in /usr/local/lib/python3.7/dist-packages (from kaggle) (2.8.2)\n",
            "Requirement already satisfied: six>=1.10 in /usr/local/lib/python3.7/dist-packages (from kaggle) (1.15.0)\n",
            "Requirement already satisfied: requests in /usr/local/lib/python3.7/dist-packages (from kaggle) (2.23.0)\n",
            "Requirement already satisfied: urllib3 in /usr/local/lib/python3.7/dist-packages (from kaggle) (1.24.3)\n",
            "Requirement already satisfied: text-unidecode>=1.3 in /usr/local/lib/python3.7/dist-packages (from python-slugify->kaggle) (1.3)\n",
            "Requirement already satisfied: chardet<4,>=3.0.2 in /usr/local/lib/python3.7/dist-packages (from requests->kaggle) (3.0.4)\n",
            "Requirement already satisfied: idna<3,>=2.5 in /usr/local/lib/python3.7/dist-packages (from requests->kaggle) (2.10)\n"
          ]
        }
      ],
      "source": [
        "! pip install kaggle\n",
        "! mkdir ~/.kaggle\n",
        "! cp kaggle.json ~/.kaggle/\n",
        "! chmod 600 ~/.kaggle/kaggle.json"
      ]
    },
    {
      "cell_type": "code",
      "source": [
        "!kaggle datasets download -d paultimothymooney/medical-speech-transcription-and-intent"
      ],
      "metadata": {
        "colab": {
          "base_uri": "https://localhost:8080/"
        },
        "id": "8xd1F6wXjRh6",
        "outputId": "f654917e-1aa3-45d1-a973-9a9dc0297976"
      },
      "execution_count": null,
      "outputs": [
        {
          "output_type": "stream",
          "name": "stdout",
          "text": [
            "Downloading medical-speech-transcription-and-intent.zip to /content\n",
            "100% 5.25G/5.27G [02:04<00:00, 44.6MB/s]\n",
            "100% 5.27G/5.27G [02:04<00:00, 45.5MB/s]\n"
          ]
        }
      ]
    },
    {
      "cell_type": "code",
      "source": [
        "!unzip medical-speech-transcription-and-intent"
      ],
      "metadata": {
        "id": "_lvXUDPWlNTu"
      },
      "execution_count": null,
      "outputs": []
    },
    {
      "cell_type": "code",
      "source": [
        "!pip install SpeechRecognition"
      ],
      "metadata": {
        "colab": {
          "base_uri": "https://localhost:8080/"
        },
        "id": "qgN0c2AnmDPM",
        "outputId": "a32373a9-f5f6-4f23-99c2-d2f88327cf53"
      },
      "execution_count": null,
      "outputs": [
        {
          "output_type": "stream",
          "name": "stdout",
          "text": [
            "Looking in indexes: https://pypi.org/simple, https://us-python.pkg.dev/colab-wheels/public/simple/\n",
            "Collecting SpeechRecognition\n",
            "  Downloading SpeechRecognition-3.8.1-py2.py3-none-any.whl (32.8 MB)\n",
            "\u001b[K     |████████████████████████████████| 32.8 MB 54 kB/s \n",
            "\u001b[?25hInstalling collected packages: SpeechRecognition\n",
            "Successfully installed SpeechRecognition-3.8.1\n"
          ]
        }
      ]
    },
    {
      "cell_type": "code",
      "source": [
        "import speech_recognition as sr\n",
        "r = sr.Recognizer()"
      ],
      "metadata": {
        "id": "K_VFar77mg5X"
      },
      "execution_count": null,
      "outputs": []
    },
    {
      "cell_type": "code",
      "source": [
        "with sr.AudioFile('/content/Medical Speech, Transcription, and Intent/recordings/train/1249120_44142156_102100267.wav') as source:\n",
        "    # listen for the data (load audio to memory)\n",
        "    audio_data = r.record(source)\n",
        "    # recognize (convert from speech to text)\n",
        "    text = r.recognize_google(audio_data)\n",
        "    print(text)"
      ],
      "metadata": {
        "colab": {
          "base_uri": "https://localhost:8080/"
        },
        "id": "rwppzzwUmnYZ",
        "outputId": "d343b344-5adc-48ac-e7c5-7780f1a75fed"
      },
      "execution_count": null,
      "outputs": [
        {
          "output_type": "stream",
          "name": "stdout",
          "text": [
            "I feel really sad all the time\n"
          ]
        }
      ]
    },
    {
      "cell_type": "markdown",
      "source": [
        "Data treatement"
      ],
      "metadata": {
        "id": "CsX80unSaDYG"
      }
    },
    {
      "cell_type": "code",
      "source": [
        "import pandas as pd"
      ],
      "metadata": {
        "id": "Rv2hkHzPm8B1"
      },
      "execution_count": null,
      "outputs": []
    },
    {
      "cell_type": "code",
      "source": [
        "df = pd.read_csv('/content/Medical Speech, Transcription, and Intent/overview-of-recordings.csv')\n",
        "df"
      ],
      "metadata": {
        "colab": {
          "base_uri": "https://localhost:8080/",
          "height": 1000
        },
        "id": "LnNY7O3Em3TF",
        "outputId": "c7251867-68fb-440f-911d-be4e40402eea"
      },
      "execution_count": null,
      "outputs": [
        {
          "output_type": "execute_result",
          "data": {
            "text/plain": [
              "      audio_clipping  audio_clipping:confidence background_noise_audible  \\\n",
              "0        no_clipping                     1.0000              light_noise   \n",
              "1     light_clipping                     0.6803                 no_noise   \n",
              "2        no_clipping                     1.0000                 no_noise   \n",
              "3        no_clipping                     1.0000              light_noise   \n",
              "4        no_clipping                     1.0000                 no_noise   \n",
              "...              ...                        ...                      ...   \n",
              "6656     no_clipping                     1.0000                 no_noise   \n",
              "6657     no_clipping                     1.0000                 no_noise   \n",
              "6658     no_clipping                     1.0000                 no_noise   \n",
              "6659     no_clipping                     1.0000                 no_noise   \n",
              "6660     no_clipping                     1.0000                 no_noise   \n",
              "\n",
              "      background_noise_audible:confidence  overall_quality_of_the_audio  \\\n",
              "0                                  1.0000                          3.33   \n",
              "1                                  0.6803                          3.33   \n",
              "2                                  0.6655                          3.33   \n",
              "3                                  1.0000                          3.33   \n",
              "4                                  1.0000                          4.67   \n",
              "...                                   ...                           ...   \n",
              "6656                               0.6076                          3.80   \n",
              "6657                               0.7829                          3.80   \n",
              "6658                               0.6061                          3.80   \n",
              "6659                               0.8215                          3.80   \n",
              "6660                               0.7989                          4.00   \n",
              "\n",
              "        quiet_speaker  quiet_speaker:confidence  speaker_id  \\\n",
              "0     audible_speaker                       1.0    43453425   \n",
              "1     audible_speaker                       1.0    43719934   \n",
              "2     audible_speaker                       1.0    43719934   \n",
              "3     audible_speaker                       1.0    31349958   \n",
              "4     audible_speaker                       1.0    43719934   \n",
              "...               ...                       ...         ...   \n",
              "6656  audible_speaker                       1.0    14353703   \n",
              "6657  audible_speaker                       1.0    15004831   \n",
              "6658  audible_speaker                       1.0    15004831   \n",
              "6659  audible_speaker                       1.0    15830408   \n",
              "6660  audible_speaker                       1.0    15004831   \n",
              "\n",
              "                                          file_download  \\\n",
              "0     https://ml.sandbox.cf3.us/cgi-bin/index.cgi?do...   \n",
              "1     https://ml.sandbox.cf3.us/cgi-bin/index.cgi?do...   \n",
              "2     https://ml.sandbox.cf3.us/cgi-bin/index.cgi?do...   \n",
              "3     https://ml.sandbox.cf3.us/cgi-bin/index.cgi?do...   \n",
              "4     https://ml.sandbox.cf3.us/cgi-bin/index.cgi?do...   \n",
              "...                                                 ...   \n",
              "6656  https://ml.sandbox.cf3.us/cgi-bin/index.cgi?do...   \n",
              "6657  https://ml.sandbox.cf3.us/cgi-bin/index.cgi?do...   \n",
              "6658  https://ml.sandbox.cf3.us/cgi-bin/index.cgi?do...   \n",
              "6659  https://ml.sandbox.cf3.us/cgi-bin/index.cgi?do...   \n",
              "6660  https://ml.sandbox.cf3.us/cgi-bin/index.cgi?do...   \n",
              "\n",
              "                          file_name  \\\n",
              "0     1249120_43453425_58166571.wav   \n",
              "1     1249120_43719934_43347848.wav   \n",
              "2     1249120_43719934_53187202.wav   \n",
              "3     1249120_31349958_55816195.wav   \n",
              "4     1249120_43719934_82524191.wav   \n",
              "...                             ...   \n",
              "6656  1249120_14353703_45949288.wav   \n",
              "6657  1249120_15004831_26452554.wav   \n",
              "6658  1249120_15004831_64958100.wav   \n",
              "6659  1249120_15830408_92962528.wav   \n",
              "6660  1249120_15004831_80093096.wav   \n",
              "\n",
              "                                                 phrase            prompt  \\\n",
              "0                       When I remember her I feel down    Emotional pain   \n",
              "1     When I carry heavy things I feel like breaking...  Hair falling out   \n",
              "2             there is too much pain when i move my arm       Heart hurts   \n",
              "3     My son had his lip pierced and it is swollen a...    Infected wound   \n",
              "4                My muscles in my lower back are aching    Infected wound   \n",
              "...                                                 ...               ...   \n",
              "6656  I feel a burning sensation in my guts about 2 ...      Stomach ache   \n",
              "6657     I have a split on my thumb that will not heal.        Open wound   \n",
              "6658                I feel a lot of pain in the joints.        Joint pain   \n",
              "6659        The area around my heart doesn't feel good.       Heart hurts   \n",
              "6660                  I complain alot with skin allergy        Skin issue   \n",
              "\n",
              "      writer_id  \n",
              "0      21665495  \n",
              "1      44088126  \n",
              "2      44292353  \n",
              "3      43755034  \n",
              "4      21665495  \n",
              "...         ...  \n",
              "6656   40925305  \n",
              "6657   43755034  \n",
              "6658   43772689  \n",
              "6659   44292353  \n",
              "6660   44118742  \n",
              "\n",
              "[6661 rows x 13 columns]"
            ],
            "text/html": [
              "\n",
              "  <div id=\"df-50ab708c-09c1-4f49-998f-c651ebeb0a3d\">\n",
              "    <div class=\"colab-df-container\">\n",
              "      <div>\n",
              "<style scoped>\n",
              "    .dataframe tbody tr th:only-of-type {\n",
              "        vertical-align: middle;\n",
              "    }\n",
              "\n",
              "    .dataframe tbody tr th {\n",
              "        vertical-align: top;\n",
              "    }\n",
              "\n",
              "    .dataframe thead th {\n",
              "        text-align: right;\n",
              "    }\n",
              "</style>\n",
              "<table border=\"1\" class=\"dataframe\">\n",
              "  <thead>\n",
              "    <tr style=\"text-align: right;\">\n",
              "      <th></th>\n",
              "      <th>audio_clipping</th>\n",
              "      <th>audio_clipping:confidence</th>\n",
              "      <th>background_noise_audible</th>\n",
              "      <th>background_noise_audible:confidence</th>\n",
              "      <th>overall_quality_of_the_audio</th>\n",
              "      <th>quiet_speaker</th>\n",
              "      <th>quiet_speaker:confidence</th>\n",
              "      <th>speaker_id</th>\n",
              "      <th>file_download</th>\n",
              "      <th>file_name</th>\n",
              "      <th>phrase</th>\n",
              "      <th>prompt</th>\n",
              "      <th>writer_id</th>\n",
              "    </tr>\n",
              "  </thead>\n",
              "  <tbody>\n",
              "    <tr>\n",
              "      <th>0</th>\n",
              "      <td>no_clipping</td>\n",
              "      <td>1.0000</td>\n",
              "      <td>light_noise</td>\n",
              "      <td>1.0000</td>\n",
              "      <td>3.33</td>\n",
              "      <td>audible_speaker</td>\n",
              "      <td>1.0</td>\n",
              "      <td>43453425</td>\n",
              "      <td>https://ml.sandbox.cf3.us/cgi-bin/index.cgi?do...</td>\n",
              "      <td>1249120_43453425_58166571.wav</td>\n",
              "      <td>When I remember her I feel down</td>\n",
              "      <td>Emotional pain</td>\n",
              "      <td>21665495</td>\n",
              "    </tr>\n",
              "    <tr>\n",
              "      <th>1</th>\n",
              "      <td>light_clipping</td>\n",
              "      <td>0.6803</td>\n",
              "      <td>no_noise</td>\n",
              "      <td>0.6803</td>\n",
              "      <td>3.33</td>\n",
              "      <td>audible_speaker</td>\n",
              "      <td>1.0</td>\n",
              "      <td>43719934</td>\n",
              "      <td>https://ml.sandbox.cf3.us/cgi-bin/index.cgi?do...</td>\n",
              "      <td>1249120_43719934_43347848.wav</td>\n",
              "      <td>When I carry heavy things I feel like breaking...</td>\n",
              "      <td>Hair falling out</td>\n",
              "      <td>44088126</td>\n",
              "    </tr>\n",
              "    <tr>\n",
              "      <th>2</th>\n",
              "      <td>no_clipping</td>\n",
              "      <td>1.0000</td>\n",
              "      <td>no_noise</td>\n",
              "      <td>0.6655</td>\n",
              "      <td>3.33</td>\n",
              "      <td>audible_speaker</td>\n",
              "      <td>1.0</td>\n",
              "      <td>43719934</td>\n",
              "      <td>https://ml.sandbox.cf3.us/cgi-bin/index.cgi?do...</td>\n",
              "      <td>1249120_43719934_53187202.wav</td>\n",
              "      <td>there is too much pain when i move my arm</td>\n",
              "      <td>Heart hurts</td>\n",
              "      <td>44292353</td>\n",
              "    </tr>\n",
              "    <tr>\n",
              "      <th>3</th>\n",
              "      <td>no_clipping</td>\n",
              "      <td>1.0000</td>\n",
              "      <td>light_noise</td>\n",
              "      <td>1.0000</td>\n",
              "      <td>3.33</td>\n",
              "      <td>audible_speaker</td>\n",
              "      <td>1.0</td>\n",
              "      <td>31349958</td>\n",
              "      <td>https://ml.sandbox.cf3.us/cgi-bin/index.cgi?do...</td>\n",
              "      <td>1249120_31349958_55816195.wav</td>\n",
              "      <td>My son had his lip pierced and it is swollen a...</td>\n",
              "      <td>Infected wound</td>\n",
              "      <td>43755034</td>\n",
              "    </tr>\n",
              "    <tr>\n",
              "      <th>4</th>\n",
              "      <td>no_clipping</td>\n",
              "      <td>1.0000</td>\n",
              "      <td>no_noise</td>\n",
              "      <td>1.0000</td>\n",
              "      <td>4.67</td>\n",
              "      <td>audible_speaker</td>\n",
              "      <td>1.0</td>\n",
              "      <td>43719934</td>\n",
              "      <td>https://ml.sandbox.cf3.us/cgi-bin/index.cgi?do...</td>\n",
              "      <td>1249120_43719934_82524191.wav</td>\n",
              "      <td>My muscles in my lower back are aching</td>\n",
              "      <td>Infected wound</td>\n",
              "      <td>21665495</td>\n",
              "    </tr>\n",
              "    <tr>\n",
              "      <th>...</th>\n",
              "      <td>...</td>\n",
              "      <td>...</td>\n",
              "      <td>...</td>\n",
              "      <td>...</td>\n",
              "      <td>...</td>\n",
              "      <td>...</td>\n",
              "      <td>...</td>\n",
              "      <td>...</td>\n",
              "      <td>...</td>\n",
              "      <td>...</td>\n",
              "      <td>...</td>\n",
              "      <td>...</td>\n",
              "      <td>...</td>\n",
              "    </tr>\n",
              "    <tr>\n",
              "      <th>6656</th>\n",
              "      <td>no_clipping</td>\n",
              "      <td>1.0000</td>\n",
              "      <td>no_noise</td>\n",
              "      <td>0.6076</td>\n",
              "      <td>3.80</td>\n",
              "      <td>audible_speaker</td>\n",
              "      <td>1.0</td>\n",
              "      <td>14353703</td>\n",
              "      <td>https://ml.sandbox.cf3.us/cgi-bin/index.cgi?do...</td>\n",
              "      <td>1249120_14353703_45949288.wav</td>\n",
              "      <td>I feel a burning sensation in my guts about 2 ...</td>\n",
              "      <td>Stomach ache</td>\n",
              "      <td>40925305</td>\n",
              "    </tr>\n",
              "    <tr>\n",
              "      <th>6657</th>\n",
              "      <td>no_clipping</td>\n",
              "      <td>1.0000</td>\n",
              "      <td>no_noise</td>\n",
              "      <td>0.7829</td>\n",
              "      <td>3.80</td>\n",
              "      <td>audible_speaker</td>\n",
              "      <td>1.0</td>\n",
              "      <td>15004831</td>\n",
              "      <td>https://ml.sandbox.cf3.us/cgi-bin/index.cgi?do...</td>\n",
              "      <td>1249120_15004831_26452554.wav</td>\n",
              "      <td>I have a split on my thumb that will not heal.</td>\n",
              "      <td>Open wound</td>\n",
              "      <td>43755034</td>\n",
              "    </tr>\n",
              "    <tr>\n",
              "      <th>6658</th>\n",
              "      <td>no_clipping</td>\n",
              "      <td>1.0000</td>\n",
              "      <td>no_noise</td>\n",
              "      <td>0.6061</td>\n",
              "      <td>3.80</td>\n",
              "      <td>audible_speaker</td>\n",
              "      <td>1.0</td>\n",
              "      <td>15004831</td>\n",
              "      <td>https://ml.sandbox.cf3.us/cgi-bin/index.cgi?do...</td>\n",
              "      <td>1249120_15004831_64958100.wav</td>\n",
              "      <td>I feel a lot of pain in the joints.</td>\n",
              "      <td>Joint pain</td>\n",
              "      <td>43772689</td>\n",
              "    </tr>\n",
              "    <tr>\n",
              "      <th>6659</th>\n",
              "      <td>no_clipping</td>\n",
              "      <td>1.0000</td>\n",
              "      <td>no_noise</td>\n",
              "      <td>0.8215</td>\n",
              "      <td>3.80</td>\n",
              "      <td>audible_speaker</td>\n",
              "      <td>1.0</td>\n",
              "      <td>15830408</td>\n",
              "      <td>https://ml.sandbox.cf3.us/cgi-bin/index.cgi?do...</td>\n",
              "      <td>1249120_15830408_92962528.wav</td>\n",
              "      <td>The area around my heart doesn't feel good.</td>\n",
              "      <td>Heart hurts</td>\n",
              "      <td>44292353</td>\n",
              "    </tr>\n",
              "    <tr>\n",
              "      <th>6660</th>\n",
              "      <td>no_clipping</td>\n",
              "      <td>1.0000</td>\n",
              "      <td>no_noise</td>\n",
              "      <td>0.7989</td>\n",
              "      <td>4.00</td>\n",
              "      <td>audible_speaker</td>\n",
              "      <td>1.0</td>\n",
              "      <td>15004831</td>\n",
              "      <td>https://ml.sandbox.cf3.us/cgi-bin/index.cgi?do...</td>\n",
              "      <td>1249120_15004831_80093096.wav</td>\n",
              "      <td>I complain alot with skin allergy</td>\n",
              "      <td>Skin issue</td>\n",
              "      <td>44118742</td>\n",
              "    </tr>\n",
              "  </tbody>\n",
              "</table>\n",
              "<p>6661 rows × 13 columns</p>\n",
              "</div>\n",
              "      <button class=\"colab-df-convert\" onclick=\"convertToInteractive('df-50ab708c-09c1-4f49-998f-c651ebeb0a3d')\"\n",
              "              title=\"Convert this dataframe to an interactive table.\"\n",
              "              style=\"display:none;\">\n",
              "        \n",
              "  <svg xmlns=\"http://www.w3.org/2000/svg\" height=\"24px\"viewBox=\"0 0 24 24\"\n",
              "       width=\"24px\">\n",
              "    <path d=\"M0 0h24v24H0V0z\" fill=\"none\"/>\n",
              "    <path d=\"M18.56 5.44l.94 2.06.94-2.06 2.06-.94-2.06-.94-.94-2.06-.94 2.06-2.06.94zm-11 1L8.5 8.5l.94-2.06 2.06-.94-2.06-.94L8.5 2.5l-.94 2.06-2.06.94zm10 10l.94 2.06.94-2.06 2.06-.94-2.06-.94-.94-2.06-.94 2.06-2.06.94z\"/><path d=\"M17.41 7.96l-1.37-1.37c-.4-.4-.92-.59-1.43-.59-.52 0-1.04.2-1.43.59L10.3 9.45l-7.72 7.72c-.78.78-.78 2.05 0 2.83L4 21.41c.39.39.9.59 1.41.59.51 0 1.02-.2 1.41-.59l7.78-7.78 2.81-2.81c.8-.78.8-2.07 0-2.86zM5.41 20L4 18.59l7.72-7.72 1.47 1.35L5.41 20z\"/>\n",
              "  </svg>\n",
              "      </button>\n",
              "      \n",
              "  <style>\n",
              "    .colab-df-container {\n",
              "      display:flex;\n",
              "      flex-wrap:wrap;\n",
              "      gap: 12px;\n",
              "    }\n",
              "\n",
              "    .colab-df-convert {\n",
              "      background-color: #E8F0FE;\n",
              "      border: none;\n",
              "      border-radius: 50%;\n",
              "      cursor: pointer;\n",
              "      display: none;\n",
              "      fill: #1967D2;\n",
              "      height: 32px;\n",
              "      padding: 0 0 0 0;\n",
              "      width: 32px;\n",
              "    }\n",
              "\n",
              "    .colab-df-convert:hover {\n",
              "      background-color: #E2EBFA;\n",
              "      box-shadow: 0px 1px 2px rgba(60, 64, 67, 0.3), 0px 1px 3px 1px rgba(60, 64, 67, 0.15);\n",
              "      fill: #174EA6;\n",
              "    }\n",
              "\n",
              "    [theme=dark] .colab-df-convert {\n",
              "      background-color: #3B4455;\n",
              "      fill: #D2E3FC;\n",
              "    }\n",
              "\n",
              "    [theme=dark] .colab-df-convert:hover {\n",
              "      background-color: #434B5C;\n",
              "      box-shadow: 0px 1px 3px 1px rgba(0, 0, 0, 0.15);\n",
              "      filter: drop-shadow(0px 1px 2px rgba(0, 0, 0, 0.3));\n",
              "      fill: #FFFFFF;\n",
              "    }\n",
              "  </style>\n",
              "\n",
              "      <script>\n",
              "        const buttonEl =\n",
              "          document.querySelector('#df-50ab708c-09c1-4f49-998f-c651ebeb0a3d button.colab-df-convert');\n",
              "        buttonEl.style.display =\n",
              "          google.colab.kernel.accessAllowed ? 'block' : 'none';\n",
              "\n",
              "        async function convertToInteractive(key) {\n",
              "          const element = document.querySelector('#df-50ab708c-09c1-4f49-998f-c651ebeb0a3d');\n",
              "          const dataTable =\n",
              "            await google.colab.kernel.invokeFunction('convertToInteractive',\n",
              "                                                     [key], {});\n",
              "          if (!dataTable) return;\n",
              "\n",
              "          const docLinkHtml = 'Like what you see? Visit the ' +\n",
              "            '<a target=\"_blank\" href=https://colab.research.google.com/notebooks/data_table.ipynb>data table notebook</a>'\n",
              "            + ' to learn more about interactive tables.';\n",
              "          element.innerHTML = '';\n",
              "          dataTable['output_type'] = 'display_data';\n",
              "          await google.colab.output.renderOutput(dataTable, element);\n",
              "          const docLink = document.createElement('div');\n",
              "          docLink.innerHTML = docLinkHtml;\n",
              "          element.appendChild(docLink);\n",
              "        }\n",
              "      </script>\n",
              "    </div>\n",
              "  </div>\n",
              "  "
            ]
          },
          "metadata": {},
          "execution_count": 75
        }
      ]
    },
    {
      "cell_type": "code",
      "source": [
        "df['writer_id'].duplicated().count()"
      ],
      "metadata": {
        "colab": {
          "base_uri": "https://localhost:8080/"
        },
        "id": "te6lHVRXBU8W",
        "outputId": "2e1cd3de-7cb2-4b45-b859-86928394a89e"
      },
      "execution_count": null,
      "outputs": [
        {
          "output_type": "execute_result",
          "data": {
            "text/plain": [
              "6661"
            ]
          },
          "metadata": {},
          "execution_count": 13
        }
      ]
    },
    {
      "cell_type": "markdown",
      "source": [
        "delete useless columns"
      ],
      "metadata": {
        "id": "WFlrjkqFaLPB"
      }
    },
    {
      "cell_type": "code",
      "source": [
        "del df['file_download']"
      ],
      "metadata": {
        "id": "yR8y_JKtBzHq"
      },
      "execution_count": null,
      "outputs": []
    },
    {
      "cell_type": "markdown",
      "source": [
        "Delete spaces from column names"
      ],
      "metadata": {
        "id": "JYqN1Of9aPux"
      }
    },
    {
      "cell_type": "code",
      "source": [
        "df.columns = df.columns.str.strip()"
      ],
      "metadata": {
        "id": "yKOr204mFFMx"
      },
      "execution_count": null,
      "outputs": []
    },
    {
      "cell_type": "code",
      "source": [
        "df"
      ],
      "metadata": {
        "colab": {
          "base_uri": "https://localhost:8080/",
          "height": 1000
        },
        "id": "TcjvGkwAFGaK",
        "outputId": "d6ffa3b7-0609-47f2-f3ab-65487d5ec09b"
      },
      "execution_count": null,
      "outputs": [
        {
          "output_type": "execute_result",
          "data": {
            "text/plain": [
              "      audio_clipping  audio_clipping:confidence background_noise_audible  \\\n",
              "0        no_clipping                     1.0000              light_noise   \n",
              "1     light_clipping                     0.6803                 no_noise   \n",
              "2        no_clipping                     1.0000                 no_noise   \n",
              "3        no_clipping                     1.0000              light_noise   \n",
              "4        no_clipping                     1.0000                 no_noise   \n",
              "...              ...                        ...                      ...   \n",
              "6656     no_clipping                     1.0000                 no_noise   \n",
              "6657     no_clipping                     1.0000                 no_noise   \n",
              "6658     no_clipping                     1.0000                 no_noise   \n",
              "6659     no_clipping                     1.0000                 no_noise   \n",
              "6660     no_clipping                     1.0000                 no_noise   \n",
              "\n",
              "      background_noise_audible:confidence  overall_quality_of_the_audio  \\\n",
              "0                                  1.0000                          3.33   \n",
              "1                                  0.6803                          3.33   \n",
              "2                                  0.6655                          3.33   \n",
              "3                                  1.0000                          3.33   \n",
              "4                                  1.0000                          4.67   \n",
              "...                                   ...                           ...   \n",
              "6656                               0.6076                          3.80   \n",
              "6657                               0.7829                          3.80   \n",
              "6658                               0.6061                          3.80   \n",
              "6659                               0.8215                          3.80   \n",
              "6660                               0.7989                          4.00   \n",
              "\n",
              "        quiet_speaker  quiet_speaker:confidence  speaker_id  \\\n",
              "0     audible_speaker                       1.0    43453425   \n",
              "1     audible_speaker                       1.0    43719934   \n",
              "2     audible_speaker                       1.0    43719934   \n",
              "3     audible_speaker                       1.0    31349958   \n",
              "4     audible_speaker                       1.0    43719934   \n",
              "...               ...                       ...         ...   \n",
              "6656  audible_speaker                       1.0    14353703   \n",
              "6657  audible_speaker                       1.0    15004831   \n",
              "6658  audible_speaker                       1.0    15004831   \n",
              "6659  audible_speaker                       1.0    15830408   \n",
              "6660  audible_speaker                       1.0    15004831   \n",
              "\n",
              "                          file_name  \\\n",
              "0     1249120_43453425_58166571.wav   \n",
              "1     1249120_43719934_43347848.wav   \n",
              "2     1249120_43719934_53187202.wav   \n",
              "3     1249120_31349958_55816195.wav   \n",
              "4     1249120_43719934_82524191.wav   \n",
              "...                             ...   \n",
              "6656  1249120_14353703_45949288.wav   \n",
              "6657  1249120_15004831_26452554.wav   \n",
              "6658  1249120_15004831_64958100.wav   \n",
              "6659  1249120_15830408_92962528.wav   \n",
              "6660  1249120_15004831_80093096.wav   \n",
              "\n",
              "                                                 phrase            prompt  \\\n",
              "0                                         remember feel    Emotional pain   \n",
              "1            carry heavy things feel like breaking back  Hair falling out   \n",
              "2                                    much pain move arm       Heart hurts   \n",
              "3     son lip pierced swollen skin inside lip grey l...    Infected wound   \n",
              "4                             muscles lower back aching    Infected wound   \n",
              "...                                                 ...               ...   \n",
              "6656          feel burning sensation guts 2 hours meal.      Stomach ache   \n",
              "6657                                  split thumb heal.        Open wound   \n",
              "6658                              feel lot pain joints.        Joint pain   \n",
              "6659                       area around heart feel good.       Heart hurts   \n",
              "6660                         complain alot skin allergy        Skin issue   \n",
              "\n",
              "      writer_id  \n",
              "0      21665495  \n",
              "1      44088126  \n",
              "2      44292353  \n",
              "3      43755034  \n",
              "4      21665495  \n",
              "...         ...  \n",
              "6656   40925305  \n",
              "6657   43755034  \n",
              "6658   43772689  \n",
              "6659   44292353  \n",
              "6660   44118742  \n",
              "\n",
              "[6661 rows x 12 columns]"
            ],
            "text/html": [
              "\n",
              "  <div id=\"df-93016fe8-2fd9-40e3-a76e-00eb7445f65e\">\n",
              "    <div class=\"colab-df-container\">\n",
              "      <div>\n",
              "<style scoped>\n",
              "    .dataframe tbody tr th:only-of-type {\n",
              "        vertical-align: middle;\n",
              "    }\n",
              "\n",
              "    .dataframe tbody tr th {\n",
              "        vertical-align: top;\n",
              "    }\n",
              "\n",
              "    .dataframe thead th {\n",
              "        text-align: right;\n",
              "    }\n",
              "</style>\n",
              "<table border=\"1\" class=\"dataframe\">\n",
              "  <thead>\n",
              "    <tr style=\"text-align: right;\">\n",
              "      <th></th>\n",
              "      <th>audio_clipping</th>\n",
              "      <th>audio_clipping:confidence</th>\n",
              "      <th>background_noise_audible</th>\n",
              "      <th>background_noise_audible:confidence</th>\n",
              "      <th>overall_quality_of_the_audio</th>\n",
              "      <th>quiet_speaker</th>\n",
              "      <th>quiet_speaker:confidence</th>\n",
              "      <th>speaker_id</th>\n",
              "      <th>file_name</th>\n",
              "      <th>phrase</th>\n",
              "      <th>prompt</th>\n",
              "      <th>writer_id</th>\n",
              "    </tr>\n",
              "  </thead>\n",
              "  <tbody>\n",
              "    <tr>\n",
              "      <th>0</th>\n",
              "      <td>no_clipping</td>\n",
              "      <td>1.0000</td>\n",
              "      <td>light_noise</td>\n",
              "      <td>1.0000</td>\n",
              "      <td>3.33</td>\n",
              "      <td>audible_speaker</td>\n",
              "      <td>1.0</td>\n",
              "      <td>43453425</td>\n",
              "      <td>1249120_43453425_58166571.wav</td>\n",
              "      <td>remember feel</td>\n",
              "      <td>Emotional pain</td>\n",
              "      <td>21665495</td>\n",
              "    </tr>\n",
              "    <tr>\n",
              "      <th>1</th>\n",
              "      <td>light_clipping</td>\n",
              "      <td>0.6803</td>\n",
              "      <td>no_noise</td>\n",
              "      <td>0.6803</td>\n",
              "      <td>3.33</td>\n",
              "      <td>audible_speaker</td>\n",
              "      <td>1.0</td>\n",
              "      <td>43719934</td>\n",
              "      <td>1249120_43719934_43347848.wav</td>\n",
              "      <td>carry heavy things feel like breaking back</td>\n",
              "      <td>Hair falling out</td>\n",
              "      <td>44088126</td>\n",
              "    </tr>\n",
              "    <tr>\n",
              "      <th>2</th>\n",
              "      <td>no_clipping</td>\n",
              "      <td>1.0000</td>\n",
              "      <td>no_noise</td>\n",
              "      <td>0.6655</td>\n",
              "      <td>3.33</td>\n",
              "      <td>audible_speaker</td>\n",
              "      <td>1.0</td>\n",
              "      <td>43719934</td>\n",
              "      <td>1249120_43719934_53187202.wav</td>\n",
              "      <td>much pain move arm</td>\n",
              "      <td>Heart hurts</td>\n",
              "      <td>44292353</td>\n",
              "    </tr>\n",
              "    <tr>\n",
              "      <th>3</th>\n",
              "      <td>no_clipping</td>\n",
              "      <td>1.0000</td>\n",
              "      <td>light_noise</td>\n",
              "      <td>1.0000</td>\n",
              "      <td>3.33</td>\n",
              "      <td>audible_speaker</td>\n",
              "      <td>1.0</td>\n",
              "      <td>31349958</td>\n",
              "      <td>1249120_31349958_55816195.wav</td>\n",
              "      <td>son lip pierced swollen skin inside lip grey l...</td>\n",
              "      <td>Infected wound</td>\n",
              "      <td>43755034</td>\n",
              "    </tr>\n",
              "    <tr>\n",
              "      <th>4</th>\n",
              "      <td>no_clipping</td>\n",
              "      <td>1.0000</td>\n",
              "      <td>no_noise</td>\n",
              "      <td>1.0000</td>\n",
              "      <td>4.67</td>\n",
              "      <td>audible_speaker</td>\n",
              "      <td>1.0</td>\n",
              "      <td>43719934</td>\n",
              "      <td>1249120_43719934_82524191.wav</td>\n",
              "      <td>muscles lower back aching</td>\n",
              "      <td>Infected wound</td>\n",
              "      <td>21665495</td>\n",
              "    </tr>\n",
              "    <tr>\n",
              "      <th>...</th>\n",
              "      <td>...</td>\n",
              "      <td>...</td>\n",
              "      <td>...</td>\n",
              "      <td>...</td>\n",
              "      <td>...</td>\n",
              "      <td>...</td>\n",
              "      <td>...</td>\n",
              "      <td>...</td>\n",
              "      <td>...</td>\n",
              "      <td>...</td>\n",
              "      <td>...</td>\n",
              "      <td>...</td>\n",
              "    </tr>\n",
              "    <tr>\n",
              "      <th>6656</th>\n",
              "      <td>no_clipping</td>\n",
              "      <td>1.0000</td>\n",
              "      <td>no_noise</td>\n",
              "      <td>0.6076</td>\n",
              "      <td>3.80</td>\n",
              "      <td>audible_speaker</td>\n",
              "      <td>1.0</td>\n",
              "      <td>14353703</td>\n",
              "      <td>1249120_14353703_45949288.wav</td>\n",
              "      <td>feel burning sensation guts 2 hours meal.</td>\n",
              "      <td>Stomach ache</td>\n",
              "      <td>40925305</td>\n",
              "    </tr>\n",
              "    <tr>\n",
              "      <th>6657</th>\n",
              "      <td>no_clipping</td>\n",
              "      <td>1.0000</td>\n",
              "      <td>no_noise</td>\n",
              "      <td>0.7829</td>\n",
              "      <td>3.80</td>\n",
              "      <td>audible_speaker</td>\n",
              "      <td>1.0</td>\n",
              "      <td>15004831</td>\n",
              "      <td>1249120_15004831_26452554.wav</td>\n",
              "      <td>split thumb heal.</td>\n",
              "      <td>Open wound</td>\n",
              "      <td>43755034</td>\n",
              "    </tr>\n",
              "    <tr>\n",
              "      <th>6658</th>\n",
              "      <td>no_clipping</td>\n",
              "      <td>1.0000</td>\n",
              "      <td>no_noise</td>\n",
              "      <td>0.6061</td>\n",
              "      <td>3.80</td>\n",
              "      <td>audible_speaker</td>\n",
              "      <td>1.0</td>\n",
              "      <td>15004831</td>\n",
              "      <td>1249120_15004831_64958100.wav</td>\n",
              "      <td>feel lot pain joints.</td>\n",
              "      <td>Joint pain</td>\n",
              "      <td>43772689</td>\n",
              "    </tr>\n",
              "    <tr>\n",
              "      <th>6659</th>\n",
              "      <td>no_clipping</td>\n",
              "      <td>1.0000</td>\n",
              "      <td>no_noise</td>\n",
              "      <td>0.8215</td>\n",
              "      <td>3.80</td>\n",
              "      <td>audible_speaker</td>\n",
              "      <td>1.0</td>\n",
              "      <td>15830408</td>\n",
              "      <td>1249120_15830408_92962528.wav</td>\n",
              "      <td>area around heart feel good.</td>\n",
              "      <td>Heart hurts</td>\n",
              "      <td>44292353</td>\n",
              "    </tr>\n",
              "    <tr>\n",
              "      <th>6660</th>\n",
              "      <td>no_clipping</td>\n",
              "      <td>1.0000</td>\n",
              "      <td>no_noise</td>\n",
              "      <td>0.7989</td>\n",
              "      <td>4.00</td>\n",
              "      <td>audible_speaker</td>\n",
              "      <td>1.0</td>\n",
              "      <td>15004831</td>\n",
              "      <td>1249120_15004831_80093096.wav</td>\n",
              "      <td>complain alot skin allergy</td>\n",
              "      <td>Skin issue</td>\n",
              "      <td>44118742</td>\n",
              "    </tr>\n",
              "  </tbody>\n",
              "</table>\n",
              "<p>6661 rows × 12 columns</p>\n",
              "</div>\n",
              "      <button class=\"colab-df-convert\" onclick=\"convertToInteractive('df-93016fe8-2fd9-40e3-a76e-00eb7445f65e')\"\n",
              "              title=\"Convert this dataframe to an interactive table.\"\n",
              "              style=\"display:none;\">\n",
              "        \n",
              "  <svg xmlns=\"http://www.w3.org/2000/svg\" height=\"24px\"viewBox=\"0 0 24 24\"\n",
              "       width=\"24px\">\n",
              "    <path d=\"M0 0h24v24H0V0z\" fill=\"none\"/>\n",
              "    <path d=\"M18.56 5.44l.94 2.06.94-2.06 2.06-.94-2.06-.94-.94-2.06-.94 2.06-2.06.94zm-11 1L8.5 8.5l.94-2.06 2.06-.94-2.06-.94L8.5 2.5l-.94 2.06-2.06.94zm10 10l.94 2.06.94-2.06 2.06-.94-2.06-.94-.94-2.06-.94 2.06-2.06.94z\"/><path d=\"M17.41 7.96l-1.37-1.37c-.4-.4-.92-.59-1.43-.59-.52 0-1.04.2-1.43.59L10.3 9.45l-7.72 7.72c-.78.78-.78 2.05 0 2.83L4 21.41c.39.39.9.59 1.41.59.51 0 1.02-.2 1.41-.59l7.78-7.78 2.81-2.81c.8-.78.8-2.07 0-2.86zM5.41 20L4 18.59l7.72-7.72 1.47 1.35L5.41 20z\"/>\n",
              "  </svg>\n",
              "      </button>\n",
              "      \n",
              "  <style>\n",
              "    .colab-df-container {\n",
              "      display:flex;\n",
              "      flex-wrap:wrap;\n",
              "      gap: 12px;\n",
              "    }\n",
              "\n",
              "    .colab-df-convert {\n",
              "      background-color: #E8F0FE;\n",
              "      border: none;\n",
              "      border-radius: 50%;\n",
              "      cursor: pointer;\n",
              "      display: none;\n",
              "      fill: #1967D2;\n",
              "      height: 32px;\n",
              "      padding: 0 0 0 0;\n",
              "      width: 32px;\n",
              "    }\n",
              "\n",
              "    .colab-df-convert:hover {\n",
              "      background-color: #E2EBFA;\n",
              "      box-shadow: 0px 1px 2px rgba(60, 64, 67, 0.3), 0px 1px 3px 1px rgba(60, 64, 67, 0.15);\n",
              "      fill: #174EA6;\n",
              "    }\n",
              "\n",
              "    [theme=dark] .colab-df-convert {\n",
              "      background-color: #3B4455;\n",
              "      fill: #D2E3FC;\n",
              "    }\n",
              "\n",
              "    [theme=dark] .colab-df-convert:hover {\n",
              "      background-color: #434B5C;\n",
              "      box-shadow: 0px 1px 3px 1px rgba(0, 0, 0, 0.15);\n",
              "      filter: drop-shadow(0px 1px 2px rgba(0, 0, 0, 0.3));\n",
              "      fill: #FFFFFF;\n",
              "    }\n",
              "  </style>\n",
              "\n",
              "      <script>\n",
              "        const buttonEl =\n",
              "          document.querySelector('#df-93016fe8-2fd9-40e3-a76e-00eb7445f65e button.colab-df-convert');\n",
              "        buttonEl.style.display =\n",
              "          google.colab.kernel.accessAllowed ? 'block' : 'none';\n",
              "\n",
              "        async function convertToInteractive(key) {\n",
              "          const element = document.querySelector('#df-93016fe8-2fd9-40e3-a76e-00eb7445f65e');\n",
              "          const dataTable =\n",
              "            await google.colab.kernel.invokeFunction('convertToInteractive',\n",
              "                                                     [key], {});\n",
              "          if (!dataTable) return;\n",
              "\n",
              "          const docLinkHtml = 'Like what you see? Visit the ' +\n",
              "            '<a target=\"_blank\" href=https://colab.research.google.com/notebooks/data_table.ipynb>data table notebook</a>'\n",
              "            + ' to learn more about interactive tables.';\n",
              "          element.innerHTML = '';\n",
              "          dataTable['output_type'] = 'display_data';\n",
              "          await google.colab.output.renderOutput(dataTable, element);\n",
              "          const docLink = document.createElement('div');\n",
              "          docLink.innerHTML = docLinkHtml;\n",
              "          element.appendChild(docLink);\n",
              "        }\n",
              "      </script>\n",
              "    </div>\n",
              "  </div>\n",
              "  "
            ]
          },
          "metadata": {},
          "execution_count": 74
        }
      ]
    },
    {
      "cell_type": "code",
      "source": [
        "for col in df.columns:\n",
        "    print(col)"
      ],
      "metadata": {
        "colab": {
          "base_uri": "https://localhost:8080/"
        },
        "id": "MzyylrvrC7nR",
        "outputId": "d967f0aa-faef-4403-905c-59079b3cac2b"
      },
      "execution_count": null,
      "outputs": [
        {
          "output_type": "stream",
          "name": "stdout",
          "text": [
            "audio_clipping\n",
            "audio_clipping:confidence\n",
            "background_noise_audible\n",
            "background_noise_audible:confidence\n",
            "overall_quality_of_the_audio\n",
            "quiet_speaker\n",
            "quiet_speaker:confidence\n",
            "speaker_id\n",
            "file_name\n",
            "phrase\n",
            "prompt\n",
            "writer_id\n"
          ]
        }
      ]
    },
    {
      "cell_type": "markdown",
      "source": [
        "Visualisation"
      ],
      "metadata": {
        "id": "8y_f-cOSaWRE"
      }
    },
    {
      "cell_type": "code",
      "source": [
        "import matplotlib.pyplot as plt\n",
        "ax = df.plot.hist(bins=12, alpha=1)\n"
      ],
      "metadata": {
        "colab": {
          "base_uri": "https://localhost:8080/",
          "height": 278
        },
        "id": "Mfkpuw_ZCeo8",
        "outputId": "23eb0131-9a51-4f3b-c0c8-9b6eb596715a"
      },
      "execution_count": null,
      "outputs": [
        {
          "output_type": "display_data",
          "data": {
            "text/plain": [
              "<Figure size 432x288 with 1 Axes>"
            ],
            "image/png": "[encoded data removed]"
          },
          "metadata": {
            "needs_background": "light"
          }
        }
      ]
    },
    {
      "cell_type": "code",
      "source": [
        "ax = df.plot.barh(x='background_noise_audible:confidence', y='quiet_speaker:confidence')"
      ],
      "metadata": {
        "colab": {
          "base_uri": "https://localhost:8080/",
          "height": 269
        },
        "id": "KGU2GJ1mF968",
        "outputId": "93790a78-4b1b-449f-ccd8-736d76027040"
      },
      "execution_count": null,
      "outputs": [
        {
          "output_type": "display_data",
          "data": {
            "text/plain": [
              "<Figure size 432x288 with 1 Axes>"
            ],
            "image/png": "[encoded data removed]"
          },
          "metadata": {
            "needs_background": "light"
          }
        }
      ]
    },
    {
      "cell_type": "code",
      "source": [
        "ax = df.plot.barh(x='speaker_id', y='overall_quality_of_the_audio')"
      ],
      "metadata": {
        "colab": {
          "base_uri": "https://localhost:8080/",
          "height": 269
        },
        "id": "n-eGc--KHnNG",
        "outputId": "407a66ac-d5ed-4e81-bf5d-c230e7633f8c"
      },
      "execution_count": null,
      "outputs": [
        {
          "data": {
            "image/png": "[encoded data removed]",
            "text/plain": [
              "<Figure size 432x288 with 1 Axes>"
            ]
          },
          "metadata": {},
          "output_type": "display_data"
        }
      ]
    },
    {
      "cell_type": "code",
      "source": [
        "import seaborn as sns\n",
        "sns.set_style(\"whitegrid\")\n",
        "promptsPlot = sns.countplot(y='prompt',data=df)\n",
        "promptsPlot\n",
        "\n",
        "qualityPlot = sns.FacetGrid(df,aspect=2.5)\n",
        "qualityPlot.map(sns.kdeplot,'overall_quality_of_the_audio',shade= True)\n",
        "qualityPlot.set(xlim=(2.5, df['overall_quality_of_the_audio'].max()))\n",
        "qualityPlot.set_axis_labels('overall_quality_of_the_audio', 'Proportion')\n",
        "qualityPlot"
      ],
      "metadata": {
        "colab": {
          "base_uri": "https://localhost:8080/",
          "height": 504
        },
        "id": "ud3kqA6TJG_m",
        "outputId": "1c30d541-a07d-4380-ad67-2c66f6ceddf4"
      },
      "execution_count": null,
      "outputs": [
        {
          "output_type": "execute_result",
          "data": {
            "text/plain": [
              "<seaborn.axisgrid.FacetGrid at 0x7f291fc68110>"
            ]
          },
          "metadata": {},
          "execution_count": 47
        },
        {
          "output_type": "display_data",
          "data": {
            "text/plain": [
              "<Figure size 432x288 with 1 Axes>"
            ],
            "image/png": "[encoded data removed]"
          },
          "metadata": {}
        },
        {
          "output_type": "display_data",
          "data": {
            "text/plain": [
              "<Figure size 540x216 with 1 Axes>"
            ],
            "image/png": "[encoded data removed]"
          },
          "metadata": {}
        }
      ]
    },
    {
      "cell_type": "code",
      "source": [
        "import matplotlib.pyplot as plt\n",
        "plt.plot(df['overall_quality_of_the_audio'])\n",
        "plt.ylabel('overall_Quality')\n",
        "plt.axis([0,8000,2.5,6]) #(xmin,xmax,ymin,ymax)\n",
        "plt.savefig('overall_quality')\n",
        "plt.show()"
      ],
      "metadata": {
        "colab": {
          "base_uri": "https://localhost:8080/",
          "height": 269
        },
        "id": "g5RSAU8eRKmI",
        "outputId": "e26f0a57-06a0-436f-b994-e651b16681b6"
      },
      "execution_count": null,
      "outputs": [
        {
          "output_type": "display_data",
          "data": {
            "text/plain": [
              "<Figure size 432x288 with 1 Axes>"
            ],
            "image/png": "[encoded data removed]"
          },
          "metadata": {}
        }
      ]
    },
    {
      "cell_type": "code",
      "source": [
        "from scipy.io.wavfile import read #import the required function from the module\n",
        "samplerate, data = read('/content/Medical Speech, Transcription, and Intent/recordings/train/1249120_44142156_100535941.wav')\n",
        "samplerate #echo samplerate\n",
        "data #echo data -> note that the data is a single dimensional array"
      ],
      "metadata": {
        "id": "c_HzFj02YGEL"
      },
      "execution_count": null,
      "outputs": []
    },
    {
      "cell_type": "code",
      "source": [
        "import numpy as np\n",
        "duration = len(data)/samplerate\n",
        "time = np.arange(0,duration,1/samplerate) #time vector\n",
        "plt.plot(time,data)\n",
        "plt.xlabel('Time [s]')\n",
        "plt.ylabel('Amplitude')\n",
        "plt.title('time_series.wav')\n",
        "plt.show()\n",
        "plt.savefig('time_series')"
      ],
      "metadata": {
        "colab": {
          "base_uri": "https://localhost:8080/",
          "height": 312
        },
        "id": "SKgVNSSOYk5g",
        "outputId": "1fdd3b8a-d12f-489a-d18f-566093f9fa1d"
      },
      "execution_count": null,
      "outputs": [
        {
          "output_type": "display_data",
          "data": {
            "text/plain": [
              "<Figure size 432x288 with 1 Axes>"
            ],
            "image/png": "[encoded data removed]"
          },
          "metadata": {}
        },
        {
          "output_type": "display_data",
          "data": {
            "text/plain": [
              "<Figure size 432x288 with 0 Axes>"
            ]
          },
          "metadata": {}
        }
      ]
    },
    {
      "cell_type": "markdown",
      "source": [
        "Treat the phrase column"
      ],
      "metadata": {
        "id": "-AnusCHeaacf"
      }
    },
    {
      "cell_type": "code",
      "source": [
        "import nltk\n",
        "nltk.download('stopwords')\n",
        "from nltk.corpus import stopwords \n",
        "# Using stopwords from English Languages\n",
        "english_stops = set(stopwords.words('english'))\n",
        "stopwords = english_stops"
      ],
      "metadata": {
        "colab": {
          "base_uri": "https://localhost:8080/"
        },
        "id": "mvf9TkoZJtSq",
        "outputId": "9d800622-21ed-4310-fc46-d6678814482b"
      },
      "execution_count": null,
      "outputs": [
        {
          "output_type": "stream",
          "name": "stderr",
          "text": [
            "[nltk_data] Downloading package stopwords to /root/nltk_data...\n",
            "[nltk_data]   Unzipping corpora/stopwords.zip.\n"
          ]
        }
      ]
    },
    {
      "cell_type": "code",
      "source": [
        "df['phrase']\n"
      ],
      "metadata": {
        "id": "CaqJSScjKOaP"
      },
      "execution_count": null,
      "outputs": []
    },
    {
      "cell_type": "code",
      "source": [
        "L = df['phrase'].values.tolist()\n",
        "L"
      ],
      "metadata": {
        "colab": {
          "base_uri": "https://localhost:8080/"
        },
        "id": "auIPimfDK_sf",
        "outputId": "3288898d-f194-4271-d96d-0aaf0bb73404"
      },
      "execution_count": null,
      "outputs": [
        {
          "output_type": "execute_result",
          "data": {
            "text/plain": [
              "6661"
            ]
          },
          "metadata": {},
          "execution_count": 63
        }
      ]
    },
    {
      "cell_type": "code",
      "source": [
        "L1=[]\n",
        "for i in range(len(L)):\n",
        "  querywords = L[i].split()\n",
        "  resultwords  = [word for word in querywords if word.lower() not in stopwords]\n",
        "  result = ' '.join(resultwords)\n",
        "  L1.append(result)\n",
        "L1"
      ],
      "metadata": {
        "id": "_fnbBVxjKDSC"
      },
      "execution_count": null,
      "outputs": []
    },
    {
      "cell_type": "code",
      "source": [
        "for i in range(len(L1)):\n",
        "  df['phrase'][i] = L1[i]"
      ],
      "metadata": {
        "colab": {
          "base_uri": "https://localhost:8080/"
        },
        "id": "HEpboTZeO7YG",
        "outputId": "60679c96-c31d-4bfd-fda9-cf1a84517b84"
      },
      "execution_count": null,
      "outputs": [
        {
          "output_type": "stream",
          "name": "stderr",
          "text": [
            "/usr/local/lib/python3.7/dist-packages/ipykernel_launcher.py:2: SettingWithCopyWarning: \n",
            "A value is trying to be set on a copy of a slice from a DataFrame\n",
            "\n",
            "See the caveats in the documentation: https://pandas.pydata.org/pandas-docs/stable/user_guide/indexing.html#returning-a-view-versus-a-copy\n",
            "  \n"
          ]
        }
      ]
    },
    {
      "cell_type": "code",
      "source": [
        "df"
      ],
      "metadata": {
        "colab": {
          "base_uri": "https://localhost:8080/",
          "height": 1000
        },
        "id": "081JZ2hzPO7S",
        "outputId": "aeb4996b-bab1-4406-d7a3-a567b2d21595"
      },
      "execution_count": null,
      "outputs": [
        {
          "output_type": "execute_result",
          "data": {
            "text/plain": [
              "      audio_clipping  audio_clipping:confidence background_noise_audible  \\\n",
              "0        no_clipping                     1.0000              light_noise   \n",
              "1     light_clipping                     0.6803                 no_noise   \n",
              "2        no_clipping                     1.0000                 no_noise   \n",
              "3        no_clipping                     1.0000              light_noise   \n",
              "4        no_clipping                     1.0000                 no_noise   \n",
              "...              ...                        ...                      ...   \n",
              "6656     no_clipping                     1.0000                 no_noise   \n",
              "6657     no_clipping                     1.0000                 no_noise   \n",
              "6658     no_clipping                     1.0000                 no_noise   \n",
              "6659     no_clipping                     1.0000                 no_noise   \n",
              "6660     no_clipping                     1.0000                 no_noise   \n",
              "\n",
              "      background_noise_audible:confidence  overall_quality_of_the_audio  \\\n",
              "0                                  1.0000                          3.33   \n",
              "1                                  0.6803                          3.33   \n",
              "2                                  0.6655                          3.33   \n",
              "3                                  1.0000                          3.33   \n",
              "4                                  1.0000                          4.67   \n",
              "...                                   ...                           ...   \n",
              "6656                               0.6076                          3.80   \n",
              "6657                               0.7829                          3.80   \n",
              "6658                               0.6061                          3.80   \n",
              "6659                               0.8215                          3.80   \n",
              "6660                               0.7989                          4.00   \n",
              "\n",
              "        quiet_speaker  quiet_speaker:confidence  speaker_id  \\\n",
              "0     audible_speaker                       1.0    43453425   \n",
              "1     audible_speaker                       1.0    43719934   \n",
              "2     audible_speaker                       1.0    43719934   \n",
              "3     audible_speaker                       1.0    31349958   \n",
              "4     audible_speaker                       1.0    43719934   \n",
              "...               ...                       ...         ...   \n",
              "6656  audible_speaker                       1.0    14353703   \n",
              "6657  audible_speaker                       1.0    15004831   \n",
              "6658  audible_speaker                       1.0    15004831   \n",
              "6659  audible_speaker                       1.0    15830408   \n",
              "6660  audible_speaker                       1.0    15004831   \n",
              "\n",
              "                          file_name  \\\n",
              "0     1249120_43453425_58166571.wav   \n",
              "1     1249120_43719934_43347848.wav   \n",
              "2     1249120_43719934_53187202.wav   \n",
              "3     1249120_31349958_55816195.wav   \n",
              "4     1249120_43719934_82524191.wav   \n",
              "...                             ...   \n",
              "6656  1249120_14353703_45949288.wav   \n",
              "6657  1249120_15004831_26452554.wav   \n",
              "6658  1249120_15004831_64958100.wav   \n",
              "6659  1249120_15830408_92962528.wav   \n",
              "6660  1249120_15004831_80093096.wav   \n",
              "\n",
              "                                                 phrase            prompt  \\\n",
              "0                                         remember feel    Emotional pain   \n",
              "1            carry heavy things feel like breaking back  Hair falling out   \n",
              "2                                    much pain move arm       Heart hurts   \n",
              "3     son lip pierced swollen skin inside lip grey l...    Infected wound   \n",
              "4                             muscles lower back aching    Infected wound   \n",
              "...                                                 ...               ...   \n",
              "6656          feel burning sensation guts 2 hours meal.      Stomach ache   \n",
              "6657                                  split thumb heal.        Open wound   \n",
              "6658                              feel lot pain joints.        Joint pain   \n",
              "6659                       area around heart feel good.       Heart hurts   \n",
              "6660                         complain alot skin allergy        Skin issue   \n",
              "\n",
              "      writer_id  \n",
              "0      21665495  \n",
              "1      44088126  \n",
              "2      44292353  \n",
              "3      43755034  \n",
              "4      21665495  \n",
              "...         ...  \n",
              "6656   40925305  \n",
              "6657   43755034  \n",
              "6658   43772689  \n",
              "6659   44292353  \n",
              "6660   44118742  \n",
              "\n",
              "[6661 rows x 12 columns]"
            ],
            "text/html": [
              "\n",
              "  <div id=\"df-0d316f31-c06b-4c25-8089-fc8ab9d0f799\">\n",
              "    <div class=\"colab-df-container\">\n",
              "      <div>\n",
              "<style scoped>\n",
              "    .dataframe tbody tr th:only-of-type {\n",
              "        vertical-align: middle;\n",
              "    }\n",
              "\n",
              "    .dataframe tbody tr th {\n",
              "        vertical-align: top;\n",
              "    }\n",
              "\n",
              "    .dataframe thead th {\n",
              "        text-align: right;\n",
              "    }\n",
              "</style>\n",
              "<table border=\"1\" class=\"dataframe\">\n",
              "  <thead>\n",
              "    <tr style=\"text-align: right;\">\n",
              "      <th></th>\n",
              "      <th>audio_clipping</th>\n",
              "      <th>audio_clipping:confidence</th>\n",
              "      <th>background_noise_audible</th>\n",
              "      <th>background_noise_audible:confidence</th>\n",
              "      <th>overall_quality_of_the_audio</th>\n",
              "      <th>quiet_speaker</th>\n",
              "      <th>quiet_speaker:confidence</th>\n",
              "      <th>speaker_id</th>\n",
              "      <th>file_name</th>\n",
              "      <th>phrase</th>\n",
              "      <th>prompt</th>\n",
              "      <th>writer_id</th>\n",
              "    </tr>\n",
              "  </thead>\n",
              "  <tbody>\n",
              "    <tr>\n",
              "      <th>0</th>\n",
              "      <td>no_clipping</td>\n",
              "      <td>1.0000</td>\n",
              "      <td>light_noise</td>\n",
              "      <td>1.0000</td>\n",
              "      <td>3.33</td>\n",
              "      <td>audible_speaker</td>\n",
              "      <td>1.0</td>\n",
              "      <td>43453425</td>\n",
              "      <td>1249120_43453425_58166571.wav</td>\n",
              "      <td>remember feel</td>\n",
              "      <td>Emotional pain</td>\n",
              "      <td>21665495</td>\n",
              "    </tr>\n",
              "    <tr>\n",
              "      <th>1</th>\n",
              "      <td>light_clipping</td>\n",
              "      <td>0.6803</td>\n",
              "      <td>no_noise</td>\n",
              "      <td>0.6803</td>\n",
              "      <td>3.33</td>\n",
              "      <td>audible_speaker</td>\n",
              "      <td>1.0</td>\n",
              "      <td>43719934</td>\n",
              "      <td>1249120_43719934_43347848.wav</td>\n",
              "      <td>carry heavy things feel like breaking back</td>\n",
              "      <td>Hair falling out</td>\n",
              "      <td>44088126</td>\n",
              "    </tr>\n",
              "    <tr>\n",
              "      <th>2</th>\n",
              "      <td>no_clipping</td>\n",
              "      <td>1.0000</td>\n",
              "      <td>no_noise</td>\n",
              "      <td>0.6655</td>\n",
              "      <td>3.33</td>\n",
              "      <td>audible_speaker</td>\n",
              "      <td>1.0</td>\n",
              "      <td>43719934</td>\n",
              "      <td>1249120_43719934_53187202.wav</td>\n",
              "      <td>much pain move arm</td>\n",
              "      <td>Heart hurts</td>\n",
              "      <td>44292353</td>\n",
              "    </tr>\n",
              "    <tr>\n",
              "      <th>3</th>\n",
              "      <td>no_clipping</td>\n",
              "      <td>1.0000</td>\n",
              "      <td>light_noise</td>\n",
              "      <td>1.0000</td>\n",
              "      <td>3.33</td>\n",
              "      <td>audible_speaker</td>\n",
              "      <td>1.0</td>\n",
              "      <td>31349958</td>\n",
              "      <td>1249120_31349958_55816195.wav</td>\n",
              "      <td>son lip pierced swollen skin inside lip grey l...</td>\n",
              "      <td>Infected wound</td>\n",
              "      <td>43755034</td>\n",
              "    </tr>\n",
              "    <tr>\n",
              "      <th>4</th>\n",
              "      <td>no_clipping</td>\n",
              "      <td>1.0000</td>\n",
              "      <td>no_noise</td>\n",
              "      <td>1.0000</td>\n",
              "      <td>4.67</td>\n",
              "      <td>audible_speaker</td>\n",
              "      <td>1.0</td>\n",
              "      <td>43719934</td>\n",
              "      <td>1249120_43719934_82524191.wav</td>\n",
              "      <td>muscles lower back aching</td>\n",
              "      <td>Infected wound</td>\n",
              "      <td>21665495</td>\n",
              "    </tr>\n",
              "    <tr>\n",
              "      <th>...</th>\n",
              "      <td>...</td>\n",
              "      <td>...</td>\n",
              "      <td>...</td>\n",
              "      <td>...</td>\n",
              "      <td>...</td>\n",
              "      <td>...</td>\n",
              "      <td>...</td>\n",
              "      <td>...</td>\n",
              "      <td>...</td>\n",
              "      <td>...</td>\n",
              "      <td>...</td>\n",
              "      <td>...</td>\n",
              "    </tr>\n",
              "    <tr>\n",
              "      <th>6656</th>\n",
              "      <td>no_clipping</td>\n",
              "      <td>1.0000</td>\n",
              "      <td>no_noise</td>\n",
              "      <td>0.6076</td>\n",
              "      <td>3.80</td>\n",
              "      <td>audible_speaker</td>\n",
              "      <td>1.0</td>\n",
              "      <td>14353703</td>\n",
              "      <td>1249120_14353703_45949288.wav</td>\n",
              "      <td>feel burning sensation guts 2 hours meal.</td>\n",
              "      <td>Stomach ache</td>\n",
              "      <td>40925305</td>\n",
              "    </tr>\n",
              "    <tr>\n",
              "      <th>6657</th>\n",
              "      <td>no_clipping</td>\n",
              "      <td>1.0000</td>\n",
              "      <td>no_noise</td>\n",
              "      <td>0.7829</td>\n",
              "      <td>3.80</td>\n",
              "      <td>audible_speaker</td>\n",
              "      <td>1.0</td>\n",
              "      <td>15004831</td>\n",
              "      <td>1249120_15004831_26452554.wav</td>\n",
              "      <td>split thumb heal.</td>\n",
              "      <td>Open wound</td>\n",
              "      <td>43755034</td>\n",
              "    </tr>\n",
              "    <tr>\n",
              "      <th>6658</th>\n",
              "      <td>no_clipping</td>\n",
              "      <td>1.0000</td>\n",
              "      <td>no_noise</td>\n",
              "      <td>0.6061</td>\n",
              "      <td>3.80</td>\n",
              "      <td>audible_speaker</td>\n",
              "      <td>1.0</td>\n",
              "      <td>15004831</td>\n",
              "      <td>1249120_15004831_64958100.wav</td>\n",
              "      <td>feel lot pain joints.</td>\n",
              "      <td>Joint pain</td>\n",
              "      <td>43772689</td>\n",
              "    </tr>\n",
              "    <tr>\n",
              "      <th>6659</th>\n",
              "      <td>no_clipping</td>\n",
              "      <td>1.0000</td>\n",
              "      <td>no_noise</td>\n",
              "      <td>0.8215</td>\n",
              "      <td>3.80</td>\n",
              "      <td>audible_speaker</td>\n",
              "      <td>1.0</td>\n",
              "      <td>15830408</td>\n",
              "      <td>1249120_15830408_92962528.wav</td>\n",
              "      <td>area around heart feel good.</td>\n",
              "      <td>Heart hurts</td>\n",
              "      <td>44292353</td>\n",
              "    </tr>\n",
              "    <tr>\n",
              "      <th>6660</th>\n",
              "      <td>no_clipping</td>\n",
              "      <td>1.0000</td>\n",
              "      <td>no_noise</td>\n",
              "      <td>0.7989</td>\n",
              "      <td>4.00</td>\n",
              "      <td>audible_speaker</td>\n",
              "      <td>1.0</td>\n",
              "      <td>15004831</td>\n",
              "      <td>1249120_15004831_80093096.wav</td>\n",
              "      <td>complain alot skin allergy</td>\n",
              "      <td>Skin issue</td>\n",
              "      <td>44118742</td>\n",
              "    </tr>\n",
              "  </tbody>\n",
              "</table>\n",
              "<p>6661 rows × 12 columns</p>\n",
              "</div>\n",
              "      <button class=\"colab-df-convert\" onclick=\"convertToInteractive('df-0d316f31-c06b-4c25-8089-fc8ab9d0f799')\"\n",
              "              title=\"Convert this dataframe to an interactive table.\"\n",
              "              style=\"display:none;\">\n",
              "        \n",
              "  <svg xmlns=\"http://www.w3.org/2000/svg\" height=\"24px\"viewBox=\"0 0 24 24\"\n",
              "       width=\"24px\">\n",
              "    <path d=\"M0 0h24v24H0V0z\" fill=\"none\"/>\n",
              "    <path d=\"M18.56 5.44l.94 2.06.94-2.06 2.06-.94-2.06-.94-.94-2.06-.94 2.06-2.06.94zm-11 1L8.5 8.5l.94-2.06 2.06-.94-2.06-.94L8.5 2.5l-.94 2.06-2.06.94zm10 10l.94 2.06.94-2.06 2.06-.94-2.06-.94-.94-2.06-.94 2.06-2.06.94z\"/><path d=\"M17.41 7.96l-1.37-1.37c-.4-.4-.92-.59-1.43-.59-.52 0-1.04.2-1.43.59L10.3 9.45l-7.72 7.72c-.78.78-.78 2.05 0 2.83L4 21.41c.39.39.9.59 1.41.59.51 0 1.02-.2 1.41-.59l7.78-7.78 2.81-2.81c.8-.78.8-2.07 0-2.86zM5.41 20L4 18.59l7.72-7.72 1.47 1.35L5.41 20z\"/>\n",
              "  </svg>\n",
              "      </button>\n",
              "      \n",
              "  <style>\n",
              "    .colab-df-container {\n",
              "      display:flex;\n",
              "      flex-wrap:wrap;\n",
              "      gap: 12px;\n",
              "    }\n",
              "\n",
              "    .colab-df-convert {\n",
              "      background-color: #E8F0FE;\n",
              "      border: none;\n",
              "      border-radius: 50%;\n",
              "      cursor: pointer;\n",
              "      display: none;\n",
              "      fill: #1967D2;\n",
              "      height: 32px;\n",
              "      padding: 0 0 0 0;\n",
              "      width: 32px;\n",
              "    }\n",
              "\n",
              "    .colab-df-convert:hover {\n",
              "      background-color: #E2EBFA;\n",
              "      box-shadow: 0px 1px 2px rgba(60, 64, 67, 0.3), 0px 1px 3px 1px rgba(60, 64, 67, 0.15);\n",
              "      fill: #174EA6;\n",
              "    }\n",
              "\n",
              "    [theme=dark] .colab-df-convert {\n",
              "      background-color: #3B4455;\n",
              "      fill: #D2E3FC;\n",
              "    }\n",
              "\n",
              "    [theme=dark] .colab-df-convert:hover {\n",
              "      background-color: #434B5C;\n",
              "      box-shadow: 0px 1px 3px 1px rgba(0, 0, 0, 0.15);\n",
              "      filter: drop-shadow(0px 1px 2px rgba(0, 0, 0, 0.3));\n",
              "      fill: #FFFFFF;\n",
              "    }\n",
              "  </style>\n",
              "\n",
              "      <script>\n",
              "        const buttonEl =\n",
              "          document.querySelector('#df-0d316f31-c06b-4c25-8089-fc8ab9d0f799 button.colab-df-convert');\n",
              "        buttonEl.style.display =\n",
              "          google.colab.kernel.accessAllowed ? 'block' : 'none';\n",
              "\n",
              "        async function convertToInteractive(key) {\n",
              "          const element = document.querySelector('#df-0d316f31-c06b-4c25-8089-fc8ab9d0f799');\n",
              "          const dataTable =\n",
              "            await google.colab.kernel.invokeFunction('convertToInteractive',\n",
              "                                                     [key], {});\n",
              "          if (!dataTable) return;\n",
              "\n",
              "          const docLinkHtml = 'Like what you see? Visit the ' +\n",
              "            '<a target=\"_blank\" href=https://colab.research.google.com/notebooks/data_table.ipynb>data table notebook</a>'\n",
              "            + ' to learn more about interactive tables.';\n",
              "          element.innerHTML = '';\n",
              "          dataTable['output_type'] = 'display_data';\n",
              "          await google.colab.output.renderOutput(dataTable, element);\n",
              "          const docLink = document.createElement('div');\n",
              "          docLink.innerHTML = docLinkHtml;\n",
              "          element.appendChild(docLink);\n",
              "        }\n",
              "      </script>\n",
              "    </div>\n",
              "  </div>\n",
              "  "
            ]
          },
          "metadata": {},
          "execution_count": 73
        }
      ]
    },
    {
      "cell_type": "markdown",
      "source": [
        "Plot audio file as time series using Scipy python"
      ],
      "metadata": {
        "id": "4JVoG30oZCIL"
      }
    },
    {
      "cell_type": "code",
      "source": [],
      "metadata": {
        "id": "ZsoMsQDyZurj"
      },
      "execution_count": null,
      "outputs": []
    }
  ]
}